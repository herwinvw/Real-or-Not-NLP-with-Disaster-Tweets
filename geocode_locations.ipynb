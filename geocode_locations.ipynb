{
 "cells": [
  {
   "cell_type": "markdown",
   "metadata": {},
   "source": [
    "# Exploring the location data of disaster tweets"
   ]
  },
  {
   "cell_type": "markdown",
   "metadata": {},
   "source": [
    "## Loading the data"
   ]
  },
  {
   "cell_type": "code",
   "execution_count": 1,
   "metadata": {},
   "outputs": [
    {
     "data": {
      "text/html": [
       "<div>\n",
       "<style scoped>\n",
       "    .dataframe tbody tr th:only-of-type {\n",
       "        vertical-align: middle;\n",
       "    }\n",
       "\n",
       "    .dataframe tbody tr th {\n",
       "        vertical-align: top;\n",
       "    }\n",
       "\n",
       "    .dataframe thead th {\n",
       "        text-align: right;\n",
       "    }\n",
       "</style>\n",
       "<table border=\"1\" class=\"dataframe\">\n",
       "  <thead>\n",
       "    <tr style=\"text-align: right;\">\n",
       "      <th></th>\n",
       "      <th>id</th>\n",
       "      <th>keyword</th>\n",
       "      <th>location</th>\n",
       "      <th>text</th>\n",
       "      <th>target</th>\n",
       "    </tr>\n",
       "  </thead>\n",
       "  <tbody>\n",
       "    <tr>\n",
       "      <th>0</th>\n",
       "      <td>1</td>\n",
       "      <td>NaN</td>\n",
       "      <td>NaN</td>\n",
       "      <td>Our Deeds are the Reason of this #earthquake M...</td>\n",
       "      <td>1</td>\n",
       "    </tr>\n",
       "    <tr>\n",
       "      <th>1</th>\n",
       "      <td>4</td>\n",
       "      <td>NaN</td>\n",
       "      <td>NaN</td>\n",
       "      <td>Forest fire near La Ronge Sask. Canada</td>\n",
       "      <td>1</td>\n",
       "    </tr>\n",
       "    <tr>\n",
       "      <th>2</th>\n",
       "      <td>5</td>\n",
       "      <td>NaN</td>\n",
       "      <td>NaN</td>\n",
       "      <td>All residents asked to 'shelter in place' are ...</td>\n",
       "      <td>1</td>\n",
       "    </tr>\n",
       "    <tr>\n",
       "      <th>3</th>\n",
       "      <td>6</td>\n",
       "      <td>NaN</td>\n",
       "      <td>NaN</td>\n",
       "      <td>13,000 people receive #wildfires evacuation or...</td>\n",
       "      <td>1</td>\n",
       "    </tr>\n",
       "    <tr>\n",
       "      <th>4</th>\n",
       "      <td>7</td>\n",
       "      <td>NaN</td>\n",
       "      <td>NaN</td>\n",
       "      <td>Just got sent this photo from Ruby #Alaska as ...</td>\n",
       "      <td>1</td>\n",
       "    </tr>\n",
       "  </tbody>\n",
       "</table>\n",
       "</div>"
      ],
      "text/plain": [
       "   id keyword location                                               text  \\\n",
       "0   1     NaN      NaN  Our Deeds are the Reason of this #earthquake M...   \n",
       "1   4     NaN      NaN             Forest fire near La Ronge Sask. Canada   \n",
       "2   5     NaN      NaN  All residents asked to 'shelter in place' are ...   \n",
       "3   6     NaN      NaN  13,000 people receive #wildfires evacuation or...   \n",
       "4   7     NaN      NaN  Just got sent this photo from Ruby #Alaska as ...   \n",
       "\n",
       "   target  \n",
       "0       1  \n",
       "1       1  \n",
       "2       1  \n",
       "3       1  \n",
       "4       1  "
      ]
     },
     "execution_count": 1,
     "metadata": {},
     "output_type": "execute_result"
    }
   ],
   "source": [
    "import pandas as pd\n",
    "train = pd.read_csv('data/train.csv')\n",
    "train.head()"
   ]
  },
  {
   "cell_type": "code",
   "execution_count": 2,
   "metadata": {},
   "outputs": [],
   "source": [
    "test = pd.read_csv('data/test.csv')"
   ]
  },
  {
   "cell_type": "code",
   "execution_count": 3,
   "metadata": {},
   "outputs": [
    {
     "data": {
      "text/html": [
       "<div>\n",
       "<style scoped>\n",
       "    .dataframe tbody tr th:only-of-type {\n",
       "        vertical-align: middle;\n",
       "    }\n",
       "\n",
       "    .dataframe tbody tr th {\n",
       "        vertical-align: top;\n",
       "    }\n",
       "\n",
       "    .dataframe thead th {\n",
       "        text-align: right;\n",
       "    }\n",
       "</style>\n",
       "<table border=\"1\" class=\"dataframe\">\n",
       "  <thead>\n",
       "    <tr style=\"text-align: right;\">\n",
       "      <th></th>\n",
       "      <th>location</th>\n",
       "      <th>target</th>\n",
       "    </tr>\n",
       "  </thead>\n",
       "  <tbody>\n",
       "    <tr>\n",
       "      <th>31</th>\n",
       "      <td>Birmingham</td>\n",
       "      <td>1</td>\n",
       "    </tr>\n",
       "    <tr>\n",
       "      <th>32</th>\n",
       "      <td>Est. September 2012 - Bristol</td>\n",
       "      <td>0</td>\n",
       "    </tr>\n",
       "    <tr>\n",
       "      <th>33</th>\n",
       "      <td>AFRICA</td>\n",
       "      <td>1</td>\n",
       "    </tr>\n",
       "    <tr>\n",
       "      <th>34</th>\n",
       "      <td>Philadelphia, PA</td>\n",
       "      <td>0</td>\n",
       "    </tr>\n",
       "    <tr>\n",
       "      <th>35</th>\n",
       "      <td>London, UK</td>\n",
       "      <td>0</td>\n",
       "    </tr>\n",
       "  </tbody>\n",
       "</table>\n",
       "</div>"
      ],
      "text/plain": [
       "                         location  target\n",
       "31                     Birmingham       1\n",
       "32  Est. September 2012 - Bristol       0\n",
       "33                         AFRICA       1\n",
       "34               Philadelphia, PA       0\n",
       "35                     London, UK       0"
      ]
     },
     "execution_count": 3,
     "metadata": {},
     "output_type": "execute_result"
    }
   ],
   "source": [
    "locations = train.loc[~train['location'].isnull(), ['location','target']]\n",
    "locations.head()"
   ]
  },
  {
   "cell_type": "code",
   "execution_count": 27,
   "metadata": {},
   "outputs": [
    {
     "data": {
      "text/html": [
       "<div>\n",
       "<style scoped>\n",
       "    .dataframe tbody tr th:only-of-type {\n",
       "        vertical-align: middle;\n",
       "    }\n",
       "\n",
       "    .dataframe tbody tr th {\n",
       "        vertical-align: top;\n",
       "    }\n",
       "\n",
       "    .dataframe thead th {\n",
       "        text-align: right;\n",
       "    }\n",
       "</style>\n",
       "<table border=\"1\" class=\"dataframe\">\n",
       "  <thead>\n",
       "    <tr style=\"text-align: right;\">\n",
       "      <th></th>\n",
       "      <th>location</th>\n",
       "    </tr>\n",
       "  </thead>\n",
       "  <tbody>\n",
       "    <tr>\n",
       "      <th>15</th>\n",
       "      <td>London</td>\n",
       "    </tr>\n",
       "    <tr>\n",
       "      <th>16</th>\n",
       "      <td>Niall's place | SAF 12 SQUAD |</td>\n",
       "    </tr>\n",
       "    <tr>\n",
       "      <th>17</th>\n",
       "      <td>NIGERIA</td>\n",
       "    </tr>\n",
       "    <tr>\n",
       "      <th>18</th>\n",
       "      <td>Live On Webcam</td>\n",
       "    </tr>\n",
       "    <tr>\n",
       "      <th>19</th>\n",
       "      <td>Los Angeles, Califnordia</td>\n",
       "    </tr>\n",
       "  </tbody>\n",
       "</table>\n",
       "</div>"
      ],
      "text/plain": [
       "                          location\n",
       "15                          London\n",
       "16  Niall's place | SAF 12 SQUAD |\n",
       "17                         NIGERIA\n",
       "18                  Live On Webcam\n",
       "19        Los Angeles, Califnordia"
      ]
     },
     "execution_count": 27,
     "metadata": {},
     "output_type": "execute_result"
    }
   ],
   "source": [
    "locations_test = pd.DataFrame(test.loc[~test['location'].isnull(), 'location'])\n",
    "locations_test.head()"
   ]
  },
  {
   "cell_type": "markdown",
   "metadata": {},
   "source": [
    "# Missing location as a feature?"
   ]
  },
  {
   "cell_type": "code",
   "execution_count": 5,
   "metadata": {},
   "outputs": [
    {
     "name": "stdout",
     "output_type": "stream",
     "text": [
      "Available locations 67%\n"
     ]
    }
   ],
   "source": [
    "train['has_location'] = ~train['location'].isnull()\n",
    "available_locations = sum(train['has_location'])/len(train)\n",
    "print(f'Available locations {round(100*available_locations)}%')"
   ]
  },
  {
   "cell_type": "code",
   "execution_count": 6,
   "metadata": {},
   "outputs": [
    {
     "name": "stdout",
     "output_type": "stream",
     "text": [
      "Disaster tweets with location provided: 43%\n"
     ]
    }
   ],
   "source": [
    "location_target_mean = train.loc[train['has_location'], 'target'].mean()\n",
    "print(f'Disaster tweets with location provided: {round(100*location_target_mean)}%')"
   ]
  },
  {
   "cell_type": "code",
   "execution_count": 7,
   "metadata": {},
   "outputs": [
    {
     "name": "stdout",
     "output_type": "stream",
     "text": [
      "Disaster tweets with no location provided: 42%\n"
     ]
    }
   ],
   "source": [
    "nolocation_target_mean = train.loc[~train['has_location'], 'target'].mean()\n",
    "print(f'Disaster tweets with no location provided: {round(100*nolocation_target_mean)}%')"
   ]
  },
  {
   "cell_type": "markdown",
   "metadata": {},
   "source": [
    "Missing location on its own doesn't seem to be a very strong feature. Can we find some more information in the locations themselves?"
   ]
  },
  {
   "cell_type": "markdown",
   "metadata": {},
   "source": [
    "# Use the Nominatim geocoder to find the coordinates of the locations"
   ]
  },
  {
   "cell_type": "code",
   "execution_count": 8,
   "metadata": {},
   "outputs": [],
   "source": [
    "from geopandas.tools import geocode"
   ]
  },
  {
   "cell_type": "markdown",
   "metadata": {},
   "source": [
    "### Encode a single location"
   ]
  },
  {
   "cell_type": "code",
   "execution_count": 9,
   "metadata": {},
   "outputs": [
    {
     "data": {
      "text/plain": [
       "'Birmingham'"
      ]
     },
     "execution_count": 9,
     "metadata": {},
     "output_type": "execute_result"
    }
   ],
   "source": [
    "locations['location'].iloc[0]"
   ]
  },
  {
   "cell_type": "code",
   "execution_count": 10,
   "metadata": {},
   "outputs": [],
   "source": [
    "from geopy import Nominatim\n",
    "locator = Nominatim(user_agent=\"myGeocoder\")\n",
    "location = locator.geocode(locations['location'].iloc[0])"
   ]
  },
  {
   "cell_type": "code",
   "execution_count": 11,
   "metadata": {},
   "outputs": [
    {
     "data": {
      "text/plain": [
       "Location(Birmingham, West Midlands Combined Authority, England, United Kingdom, (52.4796992, -1.9026911, 0.0))"
      ]
     },
     "execution_count": 11,
     "metadata": {},
     "output_type": "execute_result"
    }
   ],
   "source": [
    "location"
   ]
  },
  {
   "cell_type": "code",
   "execution_count": 12,
   "metadata": {},
   "outputs": [
    {
     "name": "stdout",
     "output_type": "stream",
     "text": [
      "-1.9026911 52.4796992 0.0\n"
     ]
    }
   ],
   "source": [
    "print(location.longitude, location.latitude, location.altitude)"
   ]
  },
  {
   "cell_type": "code",
   "execution_count": 13,
   "metadata": {},
   "outputs": [
    {
     "data": {
      "text/plain": [
       "Point(52.4796992, -1.9026911, 0.0)"
      ]
     },
     "execution_count": 13,
     "metadata": {},
     "output_type": "execute_result"
    }
   ],
   "source": [
    "location.point"
   ]
  },
  {
   "cell_type": "markdown",
   "metadata": {},
   "source": [
    "### Encode all"
   ]
  },
  {
   "cell_type": "code",
   "execution_count": 28,
   "metadata": {},
   "outputs": [],
   "source": [
    "import os\n",
    "from geopy.extra.rate_limiter import RateLimiter\n",
    "from geopy import Nominatim\n",
    "\n",
    "def encode_locations(locations, pickle_file):\n",
    "    coded_locations = pd.Series(dtype='object')\n",
    "    offset = 0\n",
    "    if os.path.exists(pickle_file):\n",
    "        coded_locations = pd.read_pickle(pickle_file)\n",
    "        offset = len(coded_locations)\n",
    "    locator = Nominatim(user_agent=\"myGeocoder\")\n",
    "    geocode = RateLimiter(locator.geocode, min_delay_seconds=1)\n",
    "\n",
    "    CHUNK_SIZE = 60\n",
    "    for i in range(offset, len(locations), CHUNK_SIZE):\n",
    "        print(i)\n",
    "        end = i + CHUNK_SIZE\n",
    "        if end>len(locations):\n",
    "            end = len(locations)    \n",
    "        coded_locations = coded_locations.append(locations.iloc[i:end]['location'].apply(geocode))\n",
    "        coded_locations.to_pickle(pickle_file)\n",
    "    return coded_locations"
   ]
  },
  {
   "cell_type": "code",
   "execution_count": 29,
   "metadata": {},
   "outputs": [],
   "source": [
    "coded_locations = encode_locations(locations, 'coded_locations.pickle')"
   ]
  },
  {
   "cell_type": "code",
   "execution_count": 30,
   "metadata": {},
   "outputs": [
    {
     "name": "stdout",
     "output_type": "stream",
     "text": [
      "0\n",
      "60\n",
      "120\n",
      "180\n",
      "240\n",
      "300\n",
      "360\n",
      "420\n",
      "480\n",
      "540\n",
      "600\n",
      "660\n",
      "720\n",
      "780\n",
      "840\n",
      "900\n",
      "960\n",
      "1020\n",
      "1080\n",
      "1140\n",
      "1200\n",
      "1260\n",
      "1320\n",
      "1380\n",
      "1440\n",
      "1500\n",
      "1560\n",
      "1620\n",
      "1680\n",
      "1740\n",
      "1800\n"
     ]
    },
    {
     "name": "stderr",
     "output_type": "stream",
     "text": [
      "RateLimiter caught an error, retrying (0/2 tries). Called with (*('SP - Brasil #1',), **{}).\n",
      "Traceback (most recent call last):\n",
      "  File \"/home/herwin/anaconda3/lib/python3.8/site-packages/urllib3/connectionpool.py\", line 426, in _make_request\n",
      "    six.raise_from(e, None)\n",
      "  File \"<string>\", line 3, in raise_from\n",
      "  File \"/home/herwin/anaconda3/lib/python3.8/site-packages/urllib3/connectionpool.py\", line 421, in _make_request\n",
      "    httplib_response = conn.getresponse()\n",
      "  File \"/home/herwin/anaconda3/lib/python3.8/http/client.py\", line 1332, in getresponse\n",
      "    response.begin()\n",
      "  File \"/home/herwin/anaconda3/lib/python3.8/http/client.py\", line 303, in begin\n",
      "    version, status, reason = self._read_status()\n",
      "  File \"/home/herwin/anaconda3/lib/python3.8/http/client.py\", line 264, in _read_status\n",
      "    line = str(self.fp.readline(_MAXLINE + 1), \"iso-8859-1\")\n",
      "  File \"/home/herwin/anaconda3/lib/python3.8/socket.py\", line 669, in readinto\n",
      "    return self._sock.recv_into(b)\n",
      "  File \"/home/herwin/anaconda3/lib/python3.8/ssl.py\", line 1241, in recv_into\n",
      "    return self.read(nbytes, buffer)\n",
      "  File \"/home/herwin/anaconda3/lib/python3.8/ssl.py\", line 1099, in read\n",
      "    return self._sslobj.read(len, buffer)\n",
      "socket.timeout: The read operation timed out\n",
      "\n",
      "During handling of the above exception, another exception occurred:\n",
      "\n",
      "Traceback (most recent call last):\n",
      "  File \"/home/herwin/anaconda3/lib/python3.8/site-packages/urllib3/connectionpool.py\", line 670, in urlopen\n",
      "    httplib_response = self._make_request(\n",
      "  File \"/home/herwin/anaconda3/lib/python3.8/site-packages/urllib3/connectionpool.py\", line 428, in _make_request\n",
      "    self._raise_timeout(err=e, url=url, timeout_value=read_timeout)\n",
      "  File \"/home/herwin/anaconda3/lib/python3.8/site-packages/urllib3/connectionpool.py\", line 335, in _raise_timeout\n",
      "    raise ReadTimeoutError(\n",
      "urllib3.exceptions.ReadTimeoutError: HTTPSConnectionPool(host='nominatim.openstreetmap.org', port=443): Read timed out. (read timeout=1)\n",
      "\n",
      "During handling of the above exception, another exception occurred:\n",
      "\n",
      "Traceback (most recent call last):\n",
      "  File \"/home/herwin/anaconda3/lib/python3.8/site-packages/requests/adapters.py\", line 439, in send\n",
      "    resp = conn.urlopen(\n",
      "  File \"/home/herwin/anaconda3/lib/python3.8/site-packages/urllib3/connectionpool.py\", line 752, in urlopen\n",
      "    return self.urlopen(\n",
      "  File \"/home/herwin/anaconda3/lib/python3.8/site-packages/urllib3/connectionpool.py\", line 752, in urlopen\n",
      "    return self.urlopen(\n",
      "  File \"/home/herwin/anaconda3/lib/python3.8/site-packages/urllib3/connectionpool.py\", line 724, in urlopen\n",
      "    retries = retries.increment(\n",
      "  File \"/home/herwin/anaconda3/lib/python3.8/site-packages/urllib3/util/retry.py\", line 439, in increment\n",
      "    raise MaxRetryError(_pool, url, error or ResponseError(cause))\n",
      "urllib3.exceptions.MaxRetryError: HTTPSConnectionPool(host='nominatim.openstreetmap.org', port=443): Max retries exceeded with url: /search?q=SP+-+Brasil+%231&format=json&limit=1 (Caused by ReadTimeoutError(\"HTTPSConnectionPool(host='nominatim.openstreetmap.org', port=443): Read timed out. (read timeout=1)\"))\n",
      "\n",
      "During handling of the above exception, another exception occurred:\n",
      "\n",
      "Traceback (most recent call last):\n",
      "  File \"/home/herwin/anaconda3/lib/python3.8/site-packages/geopy/adapters.py\", line 383, in _request\n",
      "    resp = self.session.get(url, timeout=timeout, headers=headers)\n",
      "  File \"/home/herwin/anaconda3/lib/python3.8/site-packages/requests/sessions.py\", line 543, in get\n",
      "    return self.request('GET', url, **kwargs)\n",
      "  File \"/home/herwin/anaconda3/lib/python3.8/site-packages/requests/sessions.py\", line 530, in request\n",
      "    resp = self.send(prep, **send_kwargs)\n",
      "  File \"/home/herwin/anaconda3/lib/python3.8/site-packages/requests/sessions.py\", line 643, in send\n",
      "    r = adapter.send(request, **kwargs)\n",
      "  File \"/home/herwin/anaconda3/lib/python3.8/site-packages/requests/adapters.py\", line 516, in send\n",
      "    raise ConnectionError(e, request=request)\n",
      "requests.exceptions.ConnectionError: HTTPSConnectionPool(host='nominatim.openstreetmap.org', port=443): Max retries exceeded with url: /search?q=SP+-+Brasil+%231&format=json&limit=1 (Caused by ReadTimeoutError(\"HTTPSConnectionPool(host='nominatim.openstreetmap.org', port=443): Read timed out. (read timeout=1)\"))\n",
      "\n",
      "During handling of the above exception, another exception occurred:\n",
      "\n",
      "Traceback (most recent call last):\n",
      "  File \"/home/herwin/anaconda3/lib/python3.8/site-packages/geopy/extra/rate_limiter.py\", line 136, in _retries_gen\n",
      "    yield i  # Run the function.\n",
      "  File \"/home/herwin/anaconda3/lib/python3.8/site-packages/geopy/extra/rate_limiter.py\", line 274, in __call__\n",
      "    res = self.func(*args, **kwargs)\n",
      "  File \"/home/herwin/anaconda3/lib/python3.8/site-packages/geopy/geocoders/nominatim.py\", line 294, in geocode\n",
      "    return self._call_geocoder(url, callback, timeout=timeout)\n",
      "  File \"/home/herwin/anaconda3/lib/python3.8/site-packages/geopy/geocoders/base.py\", line 360, in _call_geocoder\n",
      "    result = self.adapter.get_json(url, timeout=timeout, headers=req_headers)\n",
      "  File \"/home/herwin/anaconda3/lib/python3.8/site-packages/geopy/adapters.py\", line 373, in get_json\n",
      "    resp = self._request(url, timeout=timeout, headers=headers)\n",
      "  File \"/home/herwin/anaconda3/lib/python3.8/site-packages/geopy/adapters.py\", line 395, in _request\n",
      "    raise GeocoderUnavailable(message)\n",
      "geopy.exc.GeocoderUnavailable: HTTPSConnectionPool(host='nominatim.openstreetmap.org', port=443): Max retries exceeded with url: /search?q=SP+-+Brasil+%231&format=json&limit=1 (Caused by ReadTimeoutError(\"HTTPSConnectionPool(host='nominatim.openstreetmap.org', port=443): Read timed out. (read timeout=1)\"))\n",
      "RateLimiter caught an error, retrying (1/2 tries). Called with (*('SP - Brasil #1',), **{}).\n",
      "Traceback (most recent call last):\n",
      "  File \"/home/herwin/anaconda3/lib/python3.8/site-packages/urllib3/connectionpool.py\", line 426, in _make_request\n",
      "    six.raise_from(e, None)\n",
      "  File \"<string>\", line 3, in raise_from\n",
      "  File \"/home/herwin/anaconda3/lib/python3.8/site-packages/urllib3/connectionpool.py\", line 421, in _make_request\n",
      "    httplib_response = conn.getresponse()\n",
      "  File \"/home/herwin/anaconda3/lib/python3.8/http/client.py\", line 1332, in getresponse\n",
      "    response.begin()\n",
      "  File \"/home/herwin/anaconda3/lib/python3.8/http/client.py\", line 303, in begin\n",
      "    version, status, reason = self._read_status()\n",
      "  File \"/home/herwin/anaconda3/lib/python3.8/http/client.py\", line 264, in _read_status\n",
      "    line = str(self.fp.readline(_MAXLINE + 1), \"iso-8859-1\")\n",
      "  File \"/home/herwin/anaconda3/lib/python3.8/socket.py\", line 669, in readinto\n",
      "    return self._sock.recv_into(b)\n",
      "  File \"/home/herwin/anaconda3/lib/python3.8/ssl.py\", line 1241, in recv_into\n",
      "    return self.read(nbytes, buffer)\n",
      "  File \"/home/herwin/anaconda3/lib/python3.8/ssl.py\", line 1099, in read\n",
      "    return self._sslobj.read(len, buffer)\n",
      "socket.timeout: The read operation timed out\n",
      "\n",
      "During handling of the above exception, another exception occurred:\n",
      "\n",
      "Traceback (most recent call last):\n",
      "  File \"/home/herwin/anaconda3/lib/python3.8/site-packages/urllib3/connectionpool.py\", line 670, in urlopen\n",
      "    httplib_response = self._make_request(\n",
      "  File \"/home/herwin/anaconda3/lib/python3.8/site-packages/urllib3/connectionpool.py\", line 428, in _make_request\n",
      "    self._raise_timeout(err=e, url=url, timeout_value=read_timeout)\n",
      "  File \"/home/herwin/anaconda3/lib/python3.8/site-packages/urllib3/connectionpool.py\", line 335, in _raise_timeout\n",
      "    raise ReadTimeoutError(\n",
      "urllib3.exceptions.ReadTimeoutError: HTTPSConnectionPool(host='nominatim.openstreetmap.org', port=443): Read timed out. (read timeout=1)\n",
      "\n",
      "During handling of the above exception, another exception occurred:\n",
      "\n",
      "Traceback (most recent call last):\n",
      "  File \"/home/herwin/anaconda3/lib/python3.8/site-packages/requests/adapters.py\", line 439, in send\n",
      "    resp = conn.urlopen(\n",
      "  File \"/home/herwin/anaconda3/lib/python3.8/site-packages/urllib3/connectionpool.py\", line 752, in urlopen\n",
      "    return self.urlopen(\n",
      "  File \"/home/herwin/anaconda3/lib/python3.8/site-packages/urllib3/connectionpool.py\", line 752, in urlopen\n",
      "    return self.urlopen(\n",
      "  File \"/home/herwin/anaconda3/lib/python3.8/site-packages/urllib3/connectionpool.py\", line 724, in urlopen\n",
      "    retries = retries.increment(\n",
      "  File \"/home/herwin/anaconda3/lib/python3.8/site-packages/urllib3/util/retry.py\", line 439, in increment\n",
      "    raise MaxRetryError(_pool, url, error or ResponseError(cause))\n",
      "urllib3.exceptions.MaxRetryError: HTTPSConnectionPool(host='nominatim.openstreetmap.org', port=443): Max retries exceeded with url: /search?q=SP+-+Brasil+%231&format=json&limit=1 (Caused by ReadTimeoutError(\"HTTPSConnectionPool(host='nominatim.openstreetmap.org', port=443): Read timed out. (read timeout=1)\"))\n",
      "\n",
      "During handling of the above exception, another exception occurred:\n",
      "\n",
      "Traceback (most recent call last):\n",
      "  File \"/home/herwin/anaconda3/lib/python3.8/site-packages/geopy/adapters.py\", line 383, in _request\n",
      "    resp = self.session.get(url, timeout=timeout, headers=headers)\n",
      "  File \"/home/herwin/anaconda3/lib/python3.8/site-packages/requests/sessions.py\", line 543, in get\n",
      "    return self.request('GET', url, **kwargs)\n",
      "  File \"/home/herwin/anaconda3/lib/python3.8/site-packages/requests/sessions.py\", line 530, in request\n",
      "    resp = self.send(prep, **send_kwargs)\n",
      "  File \"/home/herwin/anaconda3/lib/python3.8/site-packages/requests/sessions.py\", line 643, in send\n",
      "    r = adapter.send(request, **kwargs)\n",
      "  File \"/home/herwin/anaconda3/lib/python3.8/site-packages/requests/adapters.py\", line 516, in send\n",
      "    raise ConnectionError(e, request=request)\n",
      "requests.exceptions.ConnectionError: HTTPSConnectionPool(host='nominatim.openstreetmap.org', port=443): Max retries exceeded with url: /search?q=SP+-+Brasil+%231&format=json&limit=1 (Caused by ReadTimeoutError(\"HTTPSConnectionPool(host='nominatim.openstreetmap.org', port=443): Read timed out. (read timeout=1)\"))\n",
      "\n",
      "During handling of the above exception, another exception occurred:\n",
      "\n",
      "Traceback (most recent call last):\n",
      "  File \"/home/herwin/anaconda3/lib/python3.8/site-packages/geopy/extra/rate_limiter.py\", line 136, in _retries_gen\n",
      "    yield i  # Run the function.\n",
      "  File \"/home/herwin/anaconda3/lib/python3.8/site-packages/geopy/extra/rate_limiter.py\", line 274, in __call__\n",
      "    res = self.func(*args, **kwargs)\n",
      "  File \"/home/herwin/anaconda3/lib/python3.8/site-packages/geopy/geocoders/nominatim.py\", line 294, in geocode\n",
      "    return self._call_geocoder(url, callback, timeout=timeout)\n",
      "  File \"/home/herwin/anaconda3/lib/python3.8/site-packages/geopy/geocoders/base.py\", line 360, in _call_geocoder\n",
      "    result = self.adapter.get_json(url, timeout=timeout, headers=req_headers)\n",
      "  File \"/home/herwin/anaconda3/lib/python3.8/site-packages/geopy/adapters.py\", line 373, in get_json\n",
      "    resp = self._request(url, timeout=timeout, headers=headers)\n",
      "  File \"/home/herwin/anaconda3/lib/python3.8/site-packages/geopy/adapters.py\", line 395, in _request\n",
      "    raise GeocoderUnavailable(message)\n",
      "geopy.exc.GeocoderUnavailable: HTTPSConnectionPool(host='nominatim.openstreetmap.org', port=443): Max retries exceeded with url: /search?q=SP+-+Brasil+%231&format=json&limit=1 (Caused by ReadTimeoutError(\"HTTPSConnectionPool(host='nominatim.openstreetmap.org', port=443): Read timed out. (read timeout=1)\"))\n"
     ]
    },
    {
     "name": "stderr",
     "output_type": "stream",
     "text": [
      "RateLimiter swallowed an error after 2 retries. Called with (*('SP - Brasil #1',), **{}).\n",
      "Traceback (most recent call last):\n",
      "  File \"/home/herwin/anaconda3/lib/python3.8/site-packages/urllib3/connectionpool.py\", line 426, in _make_request\n",
      "    six.raise_from(e, None)\n",
      "  File \"<string>\", line 3, in raise_from\n",
      "  File \"/home/herwin/anaconda3/lib/python3.8/site-packages/urllib3/connectionpool.py\", line 421, in _make_request\n",
      "    httplib_response = conn.getresponse()\n",
      "  File \"/home/herwin/anaconda3/lib/python3.8/http/client.py\", line 1332, in getresponse\n",
      "    response.begin()\n",
      "  File \"/home/herwin/anaconda3/lib/python3.8/http/client.py\", line 303, in begin\n",
      "    version, status, reason = self._read_status()\n",
      "  File \"/home/herwin/anaconda3/lib/python3.8/http/client.py\", line 264, in _read_status\n",
      "    line = str(self.fp.readline(_MAXLINE + 1), \"iso-8859-1\")\n",
      "  File \"/home/herwin/anaconda3/lib/python3.8/socket.py\", line 669, in readinto\n",
      "    return self._sock.recv_into(b)\n",
      "  File \"/home/herwin/anaconda3/lib/python3.8/ssl.py\", line 1241, in recv_into\n",
      "    return self.read(nbytes, buffer)\n",
      "  File \"/home/herwin/anaconda3/lib/python3.8/ssl.py\", line 1099, in read\n",
      "    return self._sslobj.read(len, buffer)\n",
      "socket.timeout: The read operation timed out\n",
      "\n",
      "During handling of the above exception, another exception occurred:\n",
      "\n",
      "Traceback (most recent call last):\n",
      "  File \"/home/herwin/anaconda3/lib/python3.8/site-packages/urllib3/connectionpool.py\", line 670, in urlopen\n",
      "    httplib_response = self._make_request(\n",
      "  File \"/home/herwin/anaconda3/lib/python3.8/site-packages/urllib3/connectionpool.py\", line 428, in _make_request\n",
      "    self._raise_timeout(err=e, url=url, timeout_value=read_timeout)\n",
      "  File \"/home/herwin/anaconda3/lib/python3.8/site-packages/urllib3/connectionpool.py\", line 335, in _raise_timeout\n",
      "    raise ReadTimeoutError(\n",
      "urllib3.exceptions.ReadTimeoutError: HTTPSConnectionPool(host='nominatim.openstreetmap.org', port=443): Read timed out. (read timeout=1)\n",
      "\n",
      "During handling of the above exception, another exception occurred:\n",
      "\n",
      "Traceback (most recent call last):\n",
      "  File \"/home/herwin/anaconda3/lib/python3.8/site-packages/requests/adapters.py\", line 439, in send\n",
      "    resp = conn.urlopen(\n",
      "  File \"/home/herwin/anaconda3/lib/python3.8/site-packages/urllib3/connectionpool.py\", line 752, in urlopen\n",
      "    return self.urlopen(\n",
      "  File \"/home/herwin/anaconda3/lib/python3.8/site-packages/urllib3/connectionpool.py\", line 752, in urlopen\n",
      "    return self.urlopen(\n",
      "  File \"/home/herwin/anaconda3/lib/python3.8/site-packages/urllib3/connectionpool.py\", line 724, in urlopen\n",
      "    retries = retries.increment(\n",
      "  File \"/home/herwin/anaconda3/lib/python3.8/site-packages/urllib3/util/retry.py\", line 439, in increment\n",
      "    raise MaxRetryError(_pool, url, error or ResponseError(cause))\n",
      "urllib3.exceptions.MaxRetryError: HTTPSConnectionPool(host='nominatim.openstreetmap.org', port=443): Max retries exceeded with url: /search?q=SP+-+Brasil+%231&format=json&limit=1 (Caused by ReadTimeoutError(\"HTTPSConnectionPool(host='nominatim.openstreetmap.org', port=443): Read timed out. (read timeout=1)\"))\n",
      "\n",
      "During handling of the above exception, another exception occurred:\n",
      "\n",
      "Traceback (most recent call last):\n",
      "  File \"/home/herwin/anaconda3/lib/python3.8/site-packages/geopy/adapters.py\", line 383, in _request\n",
      "    resp = self.session.get(url, timeout=timeout, headers=headers)\n",
      "  File \"/home/herwin/anaconda3/lib/python3.8/site-packages/requests/sessions.py\", line 543, in get\n",
      "    return self.request('GET', url, **kwargs)\n",
      "  File \"/home/herwin/anaconda3/lib/python3.8/site-packages/requests/sessions.py\", line 530, in request\n",
      "    resp = self.send(prep, **send_kwargs)\n",
      "  File \"/home/herwin/anaconda3/lib/python3.8/site-packages/requests/sessions.py\", line 643, in send\n",
      "    r = adapter.send(request, **kwargs)\n",
      "  File \"/home/herwin/anaconda3/lib/python3.8/site-packages/requests/adapters.py\", line 516, in send\n",
      "    raise ConnectionError(e, request=request)\n",
      "requests.exceptions.ConnectionError: HTTPSConnectionPool(host='nominatim.openstreetmap.org', port=443): Max retries exceeded with url: /search?q=SP+-+Brasil+%231&format=json&limit=1 (Caused by ReadTimeoutError(\"HTTPSConnectionPool(host='nominatim.openstreetmap.org', port=443): Read timed out. (read timeout=1)\"))\n",
      "\n",
      "During handling of the above exception, another exception occurred:\n",
      "\n",
      "Traceback (most recent call last):\n",
      "  File \"/home/herwin/anaconda3/lib/python3.8/site-packages/geopy/extra/rate_limiter.py\", line 274, in __call__\n",
      "    res = self.func(*args, **kwargs)\n",
      "  File \"/home/herwin/anaconda3/lib/python3.8/site-packages/geopy/geocoders/nominatim.py\", line 294, in geocode\n",
      "    return self._call_geocoder(url, callback, timeout=timeout)\n",
      "  File \"/home/herwin/anaconda3/lib/python3.8/site-packages/geopy/geocoders/base.py\", line 360, in _call_geocoder\n",
      "    result = self.adapter.get_json(url, timeout=timeout, headers=req_headers)\n",
      "  File \"/home/herwin/anaconda3/lib/python3.8/site-packages/geopy/adapters.py\", line 373, in get_json\n",
      "    resp = self._request(url, timeout=timeout, headers=headers)\n",
      "  File \"/home/herwin/anaconda3/lib/python3.8/site-packages/geopy/adapters.py\", line 395, in _request\n",
      "    raise GeocoderUnavailable(message)\n",
      "geopy.exc.GeocoderUnavailable: HTTPSConnectionPool(host='nominatim.openstreetmap.org', port=443): Max retries exceeded with url: /search?q=SP+-+Brasil+%231&format=json&limit=1 (Caused by ReadTimeoutError(\"HTTPSConnectionPool(host='nominatim.openstreetmap.org', port=443): Read timed out. (read timeout=1)\"))\n"
     ]
    },
    {
     "name": "stdout",
     "output_type": "stream",
     "text": [
      "1860\n",
      "1920\n",
      "1980\n",
      "2040\n",
      "2100\n"
     ]
    }
   ],
   "source": [
    "coded_locations_test = encode_locations(locations_test, 'coded_locations_test.pickle')"
   ]
  },
  {
   "cell_type": "code",
   "execution_count": 76,
   "metadata": {},
   "outputs": [
    {
     "data": {
      "text/plain": [
       "5080"
      ]
     },
     "execution_count": 76,
     "metadata": {},
     "output_type": "execute_result"
    }
   ],
   "source": [
    "len(coded_locations)"
   ]
  },
  {
   "cell_type": "code",
   "execution_count": 77,
   "metadata": {},
   "outputs": [
    {
     "data": {
      "text/plain": [
       "5080"
      ]
     },
     "execution_count": 77,
     "metadata": {},
     "output_type": "execute_result"
    }
   ],
   "source": [
    "len(locations)"
   ]
  },
  {
   "cell_type": "markdown",
   "metadata": {},
   "source": [
    "## Looking at missing geocodes"
   ]
  },
  {
   "cell_type": "code",
   "execution_count": 78,
   "metadata": {},
   "outputs": [
    {
     "name": "stdout",
     "output_type": "stream",
     "text": [
      "Missing: 19%\n"
     ]
    }
   ],
   "source": [
    "print(f\"Missing: {round(100*sum(coded_locations.isnull())/len(coded_locations))}%\")"
   ]
  },
  {
   "cell_type": "code",
   "execution_count": 87,
   "metadata": {},
   "outputs": [],
   "source": [
    "points = coded_locations.apply(lambda loc: tuple(loc.point) if loc else None)\n",
    "points\n",
    "train[['latitude', 'longitude', 'altitude']] = pd.DataFrame(points.tolist(), index=points.index)"
   ]
  },
  {
   "cell_type": "code",
   "execution_count": 88,
   "metadata": {},
   "outputs": [],
   "source": [
    "coded_locations[coded_locations.isnull()]=\"unknown\""
   ]
  },
  {
   "cell_type": "code",
   "execution_count": 89,
   "metadata": {},
   "outputs": [],
   "source": [
    "train['coded_locations'] = coded_locations"
   ]
  },
  {
   "cell_type": "code",
   "execution_count": 90,
   "metadata": {},
   "outputs": [
    {
     "name": "stdout",
     "output_type": "stream",
     "text": [
      "<class 'pandas.core.frame.DataFrame'>\n",
      "RangeIndex: 7613 entries, 0 to 7612\n",
      "Data columns (total 10 columns):\n",
      " #   Column           Non-Null Count  Dtype  \n",
      "---  ------           --------------  -----  \n",
      " 0   id               7613 non-null   int64  \n",
      " 1   keyword          7552 non-null   object \n",
      " 2   location         5080 non-null   object \n",
      " 3   text             7613 non-null   object \n",
      " 4   target           7613 non-null   int64  \n",
      " 5   coded_locations  5080 non-null   object \n",
      " 6   geocoded         7613 non-null   bool   \n",
      " 7   latitude         4116 non-null   float64\n",
      " 8   longitude        4116 non-null   float64\n",
      " 9   altitude         4116 non-null   float64\n",
      "dtypes: bool(1), float64(3), int64(2), object(4)\n",
      "memory usage: 542.8+ KB\n"
     ]
    }
   ],
   "source": [
    "train.info()"
   ]
  },
  {
   "cell_type": "code",
   "execution_count": 92,
   "metadata": {},
   "outputs": [
    {
     "data": {
      "text/html": [
       "<div>\n",
       "<style scoped>\n",
       "    .dataframe tbody tr th:only-of-type {\n",
       "        vertical-align: middle;\n",
       "    }\n",
       "\n",
       "    .dataframe tbody tr th {\n",
       "        vertical-align: top;\n",
       "    }\n",
       "\n",
       "    .dataframe thead th {\n",
       "        text-align: right;\n",
       "    }\n",
       "</style>\n",
       "<table border=\"1\" class=\"dataframe\">\n",
       "  <thead>\n",
       "    <tr style=\"text-align: right;\">\n",
       "      <th></th>\n",
       "      <th>id</th>\n",
       "      <th>keyword</th>\n",
       "      <th>location</th>\n",
       "      <th>text</th>\n",
       "      <th>target</th>\n",
       "      <th>coded_locations</th>\n",
       "      <th>geocoded</th>\n",
       "      <th>latitude</th>\n",
       "      <th>longitude</th>\n",
       "      <th>altitude</th>\n",
       "    </tr>\n",
       "  </thead>\n",
       "  <tbody>\n",
       "    <tr>\n",
       "      <th>32</th>\n",
       "      <td>49</td>\n",
       "      <td>ablaze</td>\n",
       "      <td>Est. September 2012 - Bristol</td>\n",
       "      <td>We always try to bring the heavy. #metal #RT h...</td>\n",
       "      <td>0</td>\n",
       "      <td>unknown</td>\n",
       "      <td>False</td>\n",
       "      <td>NaN</td>\n",
       "      <td>NaN</td>\n",
       "      <td>NaN</td>\n",
       "    </tr>\n",
       "    <tr>\n",
       "      <th>40</th>\n",
       "      <td>59</td>\n",
       "      <td>ablaze</td>\n",
       "      <td>Live On Webcam</td>\n",
       "      <td>Check these out: http://t.co/rOI2NSmEJJ http:/...</td>\n",
       "      <td>0</td>\n",
       "      <td>unknown</td>\n",
       "      <td>False</td>\n",
       "      <td>NaN</td>\n",
       "      <td>NaN</td>\n",
       "      <td>NaN</td>\n",
       "    </tr>\n",
       "    <tr>\n",
       "      <th>48</th>\n",
       "      <td>68</td>\n",
       "      <td>ablaze</td>\n",
       "      <td>Live On Webcam</td>\n",
       "      <td>Check these out: http://t.co/rOI2NSmEJJ http:/...</td>\n",
       "      <td>0</td>\n",
       "      <td>unknown</td>\n",
       "      <td>False</td>\n",
       "      <td>NaN</td>\n",
       "      <td>NaN</td>\n",
       "      <td>NaN</td>\n",
       "    </tr>\n",
       "    <tr>\n",
       "      <th>59</th>\n",
       "      <td>83</td>\n",
       "      <td>ablaze</td>\n",
       "      <td>Edmonton, Alberta - Treaty 6</td>\n",
       "      <td>How the West was burned: Thousands of wildfire...</td>\n",
       "      <td>1</td>\n",
       "      <td>unknown</td>\n",
       "      <td>False</td>\n",
       "      <td>NaN</td>\n",
       "      <td>NaN</td>\n",
       "      <td>NaN</td>\n",
       "    </tr>\n",
       "    <tr>\n",
       "      <th>61</th>\n",
       "      <td>86</td>\n",
       "      <td>ablaze</td>\n",
       "      <td>Inang Pamantasan</td>\n",
       "      <td>Progressive greetings!\\n\\nIn about a month stu...</td>\n",
       "      <td>0</td>\n",
       "      <td>unknown</td>\n",
       "      <td>False</td>\n",
       "      <td>NaN</td>\n",
       "      <td>NaN</td>\n",
       "      <td>NaN</td>\n",
       "    </tr>\n",
       "    <tr>\n",
       "      <th>62</th>\n",
       "      <td>89</td>\n",
       "      <td>ablaze</td>\n",
       "      <td>Twitter Lockout in progress</td>\n",
       "      <td>Rene Ablaze &amp;amp; Jacinta - Secret 2k13 (Falle...</td>\n",
       "      <td>0</td>\n",
       "      <td>unknown</td>\n",
       "      <td>False</td>\n",
       "      <td>NaN</td>\n",
       "      <td>NaN</td>\n",
       "      <td>NaN</td>\n",
       "    </tr>\n",
       "    <tr>\n",
       "      <th>67</th>\n",
       "      <td>96</td>\n",
       "      <td>accident</td>\n",
       "      <td>CLVLND</td>\n",
       "      <td>'I can't have kids cuz I got in a bicycle acci...</td>\n",
       "      <td>0</td>\n",
       "      <td>unknown</td>\n",
       "      <td>False</td>\n",
       "      <td>NaN</td>\n",
       "      <td>NaN</td>\n",
       "      <td>NaN</td>\n",
       "    </tr>\n",
       "    <tr>\n",
       "      <th>81</th>\n",
       "      <td>118</td>\n",
       "      <td>accident</td>\n",
       "      <td>Your Sister's Bedroom</td>\n",
       "      <td>I was in a horrible car accident this past Sun...</td>\n",
       "      <td>1</td>\n",
       "      <td>unknown</td>\n",
       "      <td>False</td>\n",
       "      <td>NaN</td>\n",
       "      <td>NaN</td>\n",
       "      <td>NaN</td>\n",
       "    </tr>\n",
       "    <tr>\n",
       "      <th>102</th>\n",
       "      <td>146</td>\n",
       "      <td>aftershock</td>\n",
       "      <td>Instagram - @heyimginog</td>\n",
       "      <td>@afterShock_DeLo scuf ps live and the game... cya</td>\n",
       "      <td>0</td>\n",
       "      <td>unknown</td>\n",
       "      <td>False</td>\n",
       "      <td>NaN</td>\n",
       "      <td>NaN</td>\n",
       "      <td>NaN</td>\n",
       "    </tr>\n",
       "    <tr>\n",
       "      <th>108</th>\n",
       "      <td>158</td>\n",
       "      <td>aftershock</td>\n",
       "      <td>Instagram - @heyimginog</td>\n",
       "      <td>@afterShock_DeLo im speaking from someone that...</td>\n",
       "      <td>0</td>\n",
       "      <td>unknown</td>\n",
       "      <td>False</td>\n",
       "      <td>NaN</td>\n",
       "      <td>NaN</td>\n",
       "      <td>NaN</td>\n",
       "    </tr>\n",
       "  </tbody>\n",
       "</table>\n",
       "</div>"
      ],
      "text/plain": [
       "      id     keyword                       location  \\\n",
       "32    49      ablaze  Est. September 2012 - Bristol   \n",
       "40    59      ablaze                 Live On Webcam   \n",
       "48    68      ablaze                 Live On Webcam   \n",
       "59    83      ablaze   Edmonton, Alberta - Treaty 6   \n",
       "61    86      ablaze               Inang Pamantasan   \n",
       "62    89      ablaze    Twitter Lockout in progress   \n",
       "67    96    accident                         CLVLND   \n",
       "81   118    accident          Your Sister's Bedroom   \n",
       "102  146  aftershock       Instagram - @heyimginog    \n",
       "108  158  aftershock       Instagram - @heyimginog    \n",
       "\n",
       "                                                  text  target  \\\n",
       "32   We always try to bring the heavy. #metal #RT h...       0   \n",
       "40   Check these out: http://t.co/rOI2NSmEJJ http:/...       0   \n",
       "48   Check these out: http://t.co/rOI2NSmEJJ http:/...       0   \n",
       "59   How the West was burned: Thousands of wildfire...       1   \n",
       "61   Progressive greetings!\\n\\nIn about a month stu...       0   \n",
       "62   Rene Ablaze &amp; Jacinta - Secret 2k13 (Falle...       0   \n",
       "67   'I can't have kids cuz I got in a bicycle acci...       0   \n",
       "81   I was in a horrible car accident this past Sun...       1   \n",
       "102  @afterShock_DeLo scuf ps live and the game... cya       0   \n",
       "108  @afterShock_DeLo im speaking from someone that...       0   \n",
       "\n",
       "    coded_locations  geocoded  latitude  longitude  altitude  \n",
       "32          unknown     False       NaN        NaN       NaN  \n",
       "40          unknown     False       NaN        NaN       NaN  \n",
       "48          unknown     False       NaN        NaN       NaN  \n",
       "59          unknown     False       NaN        NaN       NaN  \n",
       "61          unknown     False       NaN        NaN       NaN  \n",
       "62          unknown     False       NaN        NaN       NaN  \n",
       "67          unknown     False       NaN        NaN       NaN  \n",
       "81          unknown     False       NaN        NaN       NaN  \n",
       "102         unknown     False       NaN        NaN       NaN  \n",
       "108         unknown     False       NaN        NaN       NaN  "
      ]
     },
     "execution_count": 92,
     "metadata": {},
     "output_type": "execute_result"
    }
   ],
   "source": [
    "train[train['coded_locations']=='unknown'].head(10)"
   ]
  },
  {
   "cell_type": "markdown",
   "metadata": {},
   "source": [
    "Missing geocodes seem to be mostly non-existing locations in the world. Is that a good feature?"
   ]
  },
  {
   "cell_type": "code",
   "execution_count": 93,
   "metadata": {},
   "outputs": [],
   "source": [
    "train['geocoded'] = (train['coded_locations']!=\"unknown\") & (~train['coded_locations'].isnull())"
   ]
  },
  {
   "cell_type": "code",
   "execution_count": 94,
   "metadata": {},
   "outputs": [],
   "source": [
    "locations = train[~train['location'].isnull()]"
   ]
  },
  {
   "cell_type": "code",
   "execution_count": 95,
   "metadata": {},
   "outputs": [
    {
     "name": "stdout",
     "output_type": "stream",
     "text": [
      "Disasters at unknown locations: 38%\n"
     ]
    }
   ],
   "source": [
    "unknown_locations = locations[locations['coded_locations']==\"unknown\"]\n",
    "print(f\"Disasters at unknown locations: {round(100*unknown_locations['target'].mean())}%\") "
   ]
  },
  {
   "cell_type": "code",
   "execution_count": 96,
   "metadata": {},
   "outputs": [
    {
     "name": "stdout",
     "output_type": "stream",
     "text": [
      "Disasters at known locations: 44%\n"
     ]
    }
   ],
   "source": [
    "known_locations = locations[locations['coded_locations']!=\"unknown\"]\n",
    "print(f\"Disasters at known locations: {round(100*known_locations['target'].mean())}%\") "
   ]
  },
  {
   "cell_type": "markdown",
   "metadata": {},
   "source": [
    "Not such a super distinction, but might help."
   ]
  },
  {
   "cell_type": "markdown",
   "metadata": {},
   "source": [
    "## Looking at the location of the geocodes found"
   ]
  },
  {
   "cell_type": "code",
   "execution_count": 97,
   "metadata": {},
   "outputs": [
    {
     "name": "stdout",
     "output_type": "stream",
     "text": [
      "Percent geocoded in trainingset: 33%\n"
     ]
    }
   ],
   "source": [
    "number_coded = sum((train['coded_locations'].isnull())&(train['coded_locations']!=\"unknown\"))\n",
    "print(f\"Percent geocoded in trainingset: {round(100*number_coded/len(train))}%\")"
   ]
  },
  {
   "cell_type": "markdown",
   "metadata": {},
   "source": [
    "### Disaster tweets"
   ]
  },
  {
   "cell_type": "code",
   "execution_count": 150,
   "metadata": {},
   "outputs": [
    {
     "data": {
      "text/html": [
       "<div style=\"width:100%;\"><div style=\"position:relative;width:100%;height:0;padding-bottom:60%;\"><span style=\"color:#565656\">Make this Notebook Trusted to load map: File -> Trust Notebook</span><iframe src=\"about:blank\" style=\"position:absolute;width:100%;height:100%;left:0;top:0;border:none !important;\" data-html=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 onload=\"this.contentDocument.open();this.contentDocument.write(atob(this.getAttribute('data-html')));this.contentDocument.close();\" allowfullscreen webkitallowfullscreen mozallowfullscreen></iframe></div></div>"
      ],
      "text/plain": [
       "<folium.folium.Map at 0x7fcd639a8b20>"
      ]
     },
     "execution_count": 150,
     "metadata": {},
     "output_type": "execute_result"
    }
   ],
   "source": [
    "from folium.plugins import HeatMap\n",
    "locs = known_locations[known_locations['target']==1]\n",
    "hm_wide = HeatMap( list(zip(locs.latitude.values, locs.longitude.values, [1]*len(locs))),\n",
    "                   min_opacity=0.2,\n",
    "                   max_val=2,\n",
    "                   radius=7, blur=12, \n",
    "                   max_zoom=1, \n",
    "                 )\n",
    "hmap = folium.Map(location=[0,0],zoom_start=2)\n",
    "hmap.add_child(hm_wide)\n",
    "hmap"
   ]
  },
  {
   "cell_type": "markdown",
   "metadata": {},
   "source": [
    "### Non disaster tweets"
   ]
  },
  {
   "cell_type": "code",
   "execution_count": 149,
   "metadata": {},
   "outputs": [
    {
     "data": {
      "text/html": [
       "<div style=\"width:100%;\"><div style=\"position:relative;width:100%;height:0;padding-bottom:60%;\"><span style=\"color:#565656\">Make this Notebook Trusted to load map: File -> Trust Notebook</span><iframe src=\"about:blank\" style=\"position:absolute;width:100%;height:100%;left:0;top:0;border:none !important;\" data-html=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 onload=\"this.contentDocument.open();this.contentDocument.write(atob(this.getAttribute('data-html')));this.contentDocument.close();\" allowfullscreen webkitallowfullscreen mozallowfullscreen></iframe></div></div>"
      ],
      "text/plain": [
       "<folium.folium.Map at 0x7fcd63d53400>"
      ]
     },
     "execution_count": 149,
     "metadata": {},
     "output_type": "execute_result"
    }
   ],
   "source": [
    "from folium.plugins import HeatMap\n",
    "locs = known_locations[known_locations['target']==0]\n",
    "hm_wide = HeatMap( list(zip(locs.latitude.values, locs.longitude.values, [1]*len(locs))),\n",
    "                   min_opacity=0.2,\n",
    "                   max_val=2,\n",
    "                   radius=7, blur=12, \n",
    "                   max_zoom=1, \n",
    "                 )\n",
    "hmap = folium.Map(location=[0,0],zoom_start=2)\n",
    "hmap.add_child(hm_wide)"
   ]
  },
  {
   "cell_type": "markdown",
   "metadata": {},
   "source": [
    "Location seems to mostly correlate with densly populated areas. However, there may be some differences in amounts of tweets send, e.g in Bangladesh, India, Southamerica, eastern Europe."
   ]
  },
  {
   "cell_type": "code",
   "execution_count": null,
   "metadata": {},
   "outputs": [],
   "source": []
  }
 ],
 "metadata": {
  "kernelspec": {
   "display_name": "Python 3",
   "language": "python",
   "name": "python3"
  },
  "language_info": {
   "codemirror_mode": {
    "name": "ipython",
    "version": 3
   },
   "file_extension": ".py",
   "mimetype": "text/x-python",
   "name": "python",
   "nbconvert_exporter": "python",
   "pygments_lexer": "ipython3",
   "version": "3.8.3"
  }
 },
 "nbformat": 4,
 "nbformat_minor": 4
}
