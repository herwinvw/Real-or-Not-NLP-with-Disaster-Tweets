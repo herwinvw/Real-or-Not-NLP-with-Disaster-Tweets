{
 "cells": [
  {
   "cell_type": "code",
   "execution_count": 1,
   "metadata": {},
   "outputs": [
    {
     "ename": "KeyboardInterrupt",
     "evalue": "",
     "output_type": "error",
     "traceback": [
      "\u001b[0;31m---------------------------------------------------------------------------\u001b[0m",
      "\u001b[0;31mKeyboardInterrupt\u001b[0m                         Traceback (most recent call last)",
      "\u001b[0;32m<ipython-input-1-31e2ca2663d4>\u001b[0m in \u001b[0;36m<module>\u001b[0;34m\u001b[0m\n\u001b[1;32m      1\u001b[0m \u001b[0;32mfrom\u001b[0m \u001b[0mgensim\u001b[0m\u001b[0;34m.\u001b[0m\u001b[0mmodels\u001b[0m \u001b[0;32mimport\u001b[0m \u001b[0mKeyedVectors\u001b[0m\u001b[0;34m\u001b[0m\u001b[0;34m\u001b[0m\u001b[0m\n\u001b[0;32m----> 2\u001b[0;31m wv = KeyedVectors.load_word2vec_format('wordvecs/word2vec_twitter_tokens.bin', \n\u001b[0m\u001b[1;32m      3\u001b[0m                                        \u001b[0municode_errors\u001b[0m\u001b[0;34m=\u001b[0m\u001b[0;34m'ignore'\u001b[0m\u001b[0;34m,\u001b[0m\u001b[0;34m\u001b[0m\u001b[0;34m\u001b[0m\u001b[0m\n\u001b[1;32m      4\u001b[0m                                        binary=True)\n",
      "\u001b[0;32m~/anaconda3/lib/python3.8/site-packages/gensim/models/keyedvectors.py\u001b[0m in \u001b[0;36mload_word2vec_format\u001b[0;34m(cls, fname, fvocab, binary, encoding, unicode_errors, limit, datatype)\u001b[0m\n\u001b[1;32m   1545\u001b[0m         \"\"\"\n\u001b[1;32m   1546\u001b[0m         \u001b[0;31m# from gensim.models.word2vec import load_word2vec_format\u001b[0m\u001b[0;34m\u001b[0m\u001b[0;34m\u001b[0m\u001b[0;34m\u001b[0m\u001b[0m\n\u001b[0;32m-> 1547\u001b[0;31m         return _load_word2vec_format(\n\u001b[0m\u001b[1;32m   1548\u001b[0m             \u001b[0mcls\u001b[0m\u001b[0;34m,\u001b[0m \u001b[0mfname\u001b[0m\u001b[0;34m,\u001b[0m \u001b[0mfvocab\u001b[0m\u001b[0;34m=\u001b[0m\u001b[0mfvocab\u001b[0m\u001b[0;34m,\u001b[0m \u001b[0mbinary\u001b[0m\u001b[0;34m=\u001b[0m\u001b[0mbinary\u001b[0m\u001b[0;34m,\u001b[0m \u001b[0mencoding\u001b[0m\u001b[0;34m=\u001b[0m\u001b[0mencoding\u001b[0m\u001b[0;34m,\u001b[0m \u001b[0municode_errors\u001b[0m\u001b[0;34m=\u001b[0m\u001b[0municode_errors\u001b[0m\u001b[0;34m,\u001b[0m\u001b[0;34m\u001b[0m\u001b[0;34m\u001b[0m\u001b[0m\n\u001b[1;32m   1549\u001b[0m             limit=limit, datatype=datatype)\n",
      "\u001b[0;32m~/anaconda3/lib/python3.8/site-packages/gensim/models/utils_any2vec.py\u001b[0m in \u001b[0;36m_load_word2vec_format\u001b[0;34m(cls, fname, fvocab, binary, encoding, unicode_errors, limit, datatype, binary_chunk_size)\u001b[0m\n\u001b[1;32m    283\u001b[0m \u001b[0;34m\u001b[0m\u001b[0m\n\u001b[1;32m    284\u001b[0m         \u001b[0;32mif\u001b[0m \u001b[0mbinary\u001b[0m\u001b[0;34m:\u001b[0m\u001b[0;34m\u001b[0m\u001b[0;34m\u001b[0m\u001b[0m\n\u001b[0;32m--> 285\u001b[0;31m             _word2vec_read_binary(fin, result, counts,\n\u001b[0m\u001b[1;32m    286\u001b[0m                 vocab_size, vector_size, datatype, unicode_errors, binary_chunk_size)\n\u001b[1;32m    287\u001b[0m         \u001b[0;32melse\u001b[0m\u001b[0;34m:\u001b[0m\u001b[0;34m\u001b[0m\u001b[0;34m\u001b[0m\u001b[0m\n",
      "\u001b[0;32m~/anaconda3/lib/python3.8/site-packages/gensim/models/utils_any2vec.py\u001b[0m in \u001b[0;36m_word2vec_read_binary\u001b[0;34m(fin, result, counts, vocab_size, vector_size, datatype, unicode_errors, binary_chunk_size)\u001b[0m\n\u001b[1;32m    202\u001b[0m         \u001b[0mnew_chunk\u001b[0m \u001b[0;34m=\u001b[0m \u001b[0mfin\u001b[0m\u001b[0;34m.\u001b[0m\u001b[0mread\u001b[0m\u001b[0;34m(\u001b[0m\u001b[0mbinary_chunk_size\u001b[0m\u001b[0;34m)\u001b[0m\u001b[0;34m\u001b[0m\u001b[0;34m\u001b[0m\u001b[0m\n\u001b[1;32m    203\u001b[0m         \u001b[0mchunk\u001b[0m \u001b[0;34m+=\u001b[0m \u001b[0mnew_chunk\u001b[0m\u001b[0;34m\u001b[0m\u001b[0;34m\u001b[0m\u001b[0m\n\u001b[0;32m--> 204\u001b[0;31m         processed_words, chunk = _add_bytes_to_result(\n\u001b[0m\u001b[1;32m    205\u001b[0m             result, counts, chunk, vocab_size, vector_size, datatype, unicode_errors)\n\u001b[1;32m    206\u001b[0m         \u001b[0mtot_processed_words\u001b[0m \u001b[0;34m+=\u001b[0m \u001b[0mprocessed_words\u001b[0m\u001b[0;34m\u001b[0m\u001b[0;34m\u001b[0m\u001b[0m\n",
      "\u001b[0;32m~/anaconda3/lib/python3.8/site-packages/gensim/models/utils_any2vec.py\u001b[0m in \u001b[0;36m_add_bytes_to_result\u001b[0;34m(result, counts, chunk, vocab_size, vector_size, datatype, unicode_errors)\u001b[0m\n\u001b[1;32m    181\u001b[0m         \u001b[0mi_vector\u001b[0m \u001b[0;34m=\u001b[0m \u001b[0mi_space\u001b[0m \u001b[0;34m+\u001b[0m \u001b[0;36m1\u001b[0m\u001b[0;34m\u001b[0m\u001b[0;34m\u001b[0m\u001b[0m\n\u001b[1;32m    182\u001b[0m \u001b[0;34m\u001b[0m\u001b[0m\n\u001b[0;32m--> 183\u001b[0;31m         \u001b[0;32mif\u001b[0m \u001b[0mi_space\u001b[0m \u001b[0;34m==\u001b[0m \u001b[0;34m-\u001b[0m\u001b[0;36m1\u001b[0m \u001b[0;32mor\u001b[0m \u001b[0;34m(\u001b[0m\u001b[0mlen\u001b[0m\u001b[0;34m(\u001b[0m\u001b[0mchunk\u001b[0m\u001b[0;34m)\u001b[0m \u001b[0;34m-\u001b[0m \u001b[0mi_vector\u001b[0m\u001b[0;34m)\u001b[0m \u001b[0;34m<\u001b[0m \u001b[0mbytes_per_vector\u001b[0m\u001b[0;34m:\u001b[0m\u001b[0;34m\u001b[0m\u001b[0;34m\u001b[0m\u001b[0m\n\u001b[0m\u001b[1;32m    184\u001b[0m             \u001b[0;32mbreak\u001b[0m\u001b[0;34m\u001b[0m\u001b[0;34m\u001b[0m\u001b[0m\n\u001b[1;32m    185\u001b[0m \u001b[0;34m\u001b[0m\u001b[0m\n",
      "\u001b[0;31mKeyboardInterrupt\u001b[0m: "
     ]
    }
   ],
   "source": [
    "from gensim.models import KeyedVectors\n",
    "wv = KeyedVectors.load_word2vec_format('wordvecs/word2vec_twitter_tokens.bin', \n",
    "                                       unicode_errors='ignore',\n",
    "                                       binary=True)"
   ]
  },
  {
   "cell_type": "code",
   "execution_count": 2,
   "metadata": {},
   "outputs": [],
   "source": [
    "import twokenize"
   ]
  },
  {
   "cell_type": "code",
   "execution_count": 7,
   "metadata": {},
   "outputs": [
    {
     "data": {
      "text/plain": [
       "['#test',\n",
       " 'Tweet',\n",
       " 'blah',\n",
       " \"don't\",\n",
       " '@herwin',\n",
       " 'http://www.yahoo.com',\n",
       " ':-)',\n",
       " '...']"
      ]
     },
     "execution_count": 7,
     "metadata": {},
     "output_type": "execute_result"
    }
   ],
   "source": [
    "twokenize.tokenize(\"#test Tweet blah don't @herwin http://www.yahoo.com :-)...\")"
   ]
  },
  {
   "cell_type": "markdown",
   "metadata": {},
   "source": [
    "# Trying out twitter wordvecs"
   ]
  },
  {
   "cell_type": "code",
   "execution_count": 28,
   "metadata": {
    "_cell_guid": "79c7e3d0-c299-4dcb-8224-4455121ee9b0",
    "_uuid": "d629ff2d2480ee46fbb7e2d37f6b5fab8052498a"
   },
   "outputs": [],
   "source": [
    "from gensim.models import KeyedVectors\n",
    "wv = KeyedVectors.load_word2vec_format('wordvecs/glove.twitter.27B.100d_wv.txt', binary=False)"
   ]
  },
  {
   "cell_type": "code",
   "execution_count": 29,
   "metadata": {},
   "outputs": [],
   "source": [
    "wv.save('wordvecs/glove.twitter.27B.100d.kv')"
   ]
  },
  {
   "cell_type": "code",
   "execution_count": 47,
   "metadata": {},
   "outputs": [],
   "source": [
    "wv = wv.load('wordvecs/glove.twitter.27B.100d.kv')"
   ]
  },
  {
   "cell_type": "code",
   "execution_count": 3,
   "metadata": {},
   "outputs": [
    {
     "data": {
      "text/plain": [
       "True"
      ]
     },
     "execution_count": 3,
     "metadata": {},
     "output_type": "execute_result"
    }
   ],
   "source": [
    "'cat' in wv"
   ]
  },
  {
   "cell_type": "markdown",
   "metadata": {},
   "source": [
    "Only lower case characters"
   ]
  },
  {
   "cell_type": "code",
   "execution_count": 4,
   "metadata": {},
   "outputs": [
    {
     "data": {
      "text/plain": [
       "True"
      ]
     },
     "execution_count": 4,
     "metadata": {},
     "output_type": "execute_result"
    }
   ],
   "source": [
    "'Cat' in wv"
   ]
  },
  {
   "cell_type": "markdown",
   "metadata": {},
   "source": [
    "## Contains multiple languages"
   ]
  },
  {
   "cell_type": "code",
   "execution_count": 5,
   "metadata": {},
   "outputs": [
    {
     "data": {
      "text/plain": [
       "True"
      ]
     },
     "execution_count": 5,
     "metadata": {},
     "output_type": "execute_result"
    }
   ],
   "source": [
    "'katze' in wv"
   ]
  },
  {
   "cell_type": "code",
   "execution_count": 6,
   "metadata": {},
   "outputs": [
    {
     "data": {
      "text/plain": [
       "True"
      ]
     },
     "execution_count": 6,
     "metadata": {},
     "output_type": "execute_result"
    }
   ],
   "source": [
    " 'hond' in wv"
   ]
  },
  {
   "cell_type": "markdown",
   "metadata": {},
   "source": [
    "## Most similar words"
   ]
  },
  {
   "cell_type": "code",
   "execution_count": 7,
   "metadata": {},
   "outputs": [
    {
     "data": {
      "text/plain": [
       "[('dog', 0.7790239453315735),\n",
       " ('Cat', 0.6993972063064575),\n",
       " ('kitten', 0.6972646713256836),\n",
       " ('cats', 0.6883424520492554),\n",
       " ('chihuahua', 0.6612286567687988),\n",
       " ('ferret', 0.6384277939796448),\n",
       " ('kitty', 0.6355489492416382),\n",
       " ('pug', 0.6290236711502075),\n",
       " ('puppy', 0.624839723110199),\n",
       " ('kitteh', 0.6190889477729797)]"
      ]
     },
     "execution_count": 7,
     "metadata": {},
     "output_type": "execute_result"
    }
   ],
   "source": [
    "wv.most_similar(\"cat\", topn=10)"
   ]
  },
  {
   "cell_type": "code",
   "execution_count": 8,
   "metadata": {},
   "outputs": [
    {
     "data": {
      "text/plain": [
       "[('Apple', 0.6805084943771362),\n",
       " ('appple', 0.6070480346679688),\n",
       " (\"apple's\", 0.598049521446228),\n",
       " ('apples', 0.5945900678634644),\n",
       " ('mango', 0.5570111274719238),\n",
       " ('calamansi', 0.5562319755554199),\n",
       " ('Somersby', 0.5528377294540405),\n",
       " ('pear', 0.5511035919189453),\n",
       " ('blueberry', 0.5496645569801331),\n",
       " ('strawberry', 0.5440372824668884)]"
      ]
     },
     "execution_count": 8,
     "metadata": {},
     "output_type": "execute_result"
    }
   ],
   "source": [
    "wv.most_similar(\"apple\", topn=10)"
   ]
  },
  {
   "cell_type": "markdown",
   "metadata": {},
   "source": [
    "## Math with wordvecs\n",
    "\n",
    "king - man + woman = queen\n",
    "\n",
    "berlin - germany + france = paris"
   ]
  },
  {
   "cell_type": "code",
   "execution_count": 9,
   "metadata": {},
   "outputs": [
    {
     "data": {
      "text/plain": [
       "[('King', 0.5878024101257324),\n",
       " ('queen', 0.572757363319397),\n",
       " ('Queen', 0.5411665439605713),\n",
       " ('kings', 0.4818017780780792),\n",
       " ('KING', 0.47495925426483154)]"
      ]
     },
     "execution_count": 9,
     "metadata": {},
     "output_type": "execute_result"
    }
   ],
   "source": [
    "positive = [\"woman\", \"king\"]\n",
    "negative = [\"man\"]\n",
    "wv.most_similar(positive=positive, negative=negative, topn=5)"
   ]
  },
  {
   "cell_type": "code",
   "execution_count": 10,
   "metadata": {},
   "outputs": [
    {
     "data": {
      "text/plain": [
       "[('paris', 0.529784083366394),\n",
       " ('prague', 0.5100886821746826),\n",
       " ('Paris', 0.5077931880950928),\n",
       " ('london', 0.5039300918579102),\n",
       " ('byblos', 0.4766060709953308)]"
      ]
     },
     "execution_count": 10,
     "metadata": {},
     "output_type": "execute_result"
    }
   ],
   "source": [
    "positive = [\"berlin\", \"france\"]\n",
    "negative = [\"germany\"]\n",
    "wv.most_similar(positive=positive, negative=negative, topn=5)"
   ]
  },
  {
   "cell_type": "markdown",
   "metadata": {},
   "source": [
    "## Twitter tokens\n",
    "Some of the encoded tokens. Note that ., !, etc. are also tokenized."
   ]
  },
  {
   "cell_type": "code",
   "execution_count": 11,
   "metadata": {},
   "outputs": [
    {
     "data": {
      "text/plain": [
       "False"
      ]
     },
     "execution_count": 11,
     "metadata": {},
     "output_type": "execute_result"
    }
   ],
   "source": [
    "'<url>' in wv"
   ]
  },
  {
   "cell_type": "code",
   "execution_count": 39,
   "metadata": {},
   "outputs": [
    {
     "data": {
      "text/plain": [
       "['<url>',\n",
       " 'gurl',\n",
       " '定期的につぶやくbotやurlの宣伝にも使えます',\n",
       " 'curly',\n",
       " 'url',\n",
       " 'curl',\n",
       " 'curls',\n",
       " 'curling',\n",
       " 'burla',\n",
       " 'natuurlijk',\n",
       " 'gurls',\n",
       " 'bersyukurlah',\n",
       " 'hourly',\n",
       " 'curled',\n",
       " 'tesekkurler',\n",
       " 'tuurlijk',\n",
       " 'huzurlu',\n",
       " 'burlesque',\n",
       " 'syukurlah',\n",
       " 'tidurlah',\n",
       " 'burlington',\n",
       " 'burlan',\n",
       " 'olurlar',\n",
       " 'urlaub',\n",
       " 'burlas',\n",
       " 'urla',\n",
       " 'onurlu',\n",
       " 'hurley',\n",
       " 'turlu',\n",
       " 'burlarse',\n",
       " 'gurll',\n",
       " 'gurlz',\n",
       " 'burlando',\n",
       " 'jujurlah',\n",
       " 'guuurl',\n",
       " 'burlo',\n",
       " 'yağmurlu',\n",
       " 'urls',\n",
       " 'uğurlu',\n",
       " 'guuuurl',\n",
       " 'furla',\n",
       " 'surly',\n",
       " 'hurling',\n",
       " 'burles',\n",
       " 'hurl',\n",
       " 'urlare',\n",
       " 'burlarme',\n",
       " 'guurl',\n",
       " 'burlar',\n",
       " 'urlacher',\n",
       " 'gururla',\n",
       " 'qurl',\n",
       " 'urlo',\n",
       " 'murlods',\n",
       " 'curler',\n",
       " 'burlen',\n",
       " 'ozgurluk',\n",
       " 'burle',\n",
       " 'murlod',\n",
       " 'curlers',\n",
       " 'mağdurları',\n",
       " 'curlyhair',\n",
       " 'hurler',\n",
       " 'burley',\n",
       " 'homegurl',\n",
       " 'gururlu',\n",
       " 'burlarte',\n",
       " 'src=\"<url>\"',\n",
       " 'hurle',\n",
       " 'gurley',\n",
       " 'guuuuurl',\n",
       " 'sukurler',\n",
       " 'burlap',\n",
       " 'kusurlarını',\n",
       " 'babygurl',\n",
       " 'burlate',\n",
       " 'burlándose',\n",
       " 'burlao',\n",
       " 'huzurla',\n",
       " 'yağmurla',\n",
       " 'curley',\n",
       " 'tegurlah',\n",
       " 'urlando',\n",
       " 'ugurlu',\n",
       " 'burly',\n",
       " '携帯url',\n",
       " 'burlaron',\n",
       " 'burlado',\n",
       " 'yagmurlu',\n",
       " 'yağmurlar',\n",
       " 'bulurlar',\n",
       " 'hurled',\n",
       " 'urlato',\n",
       " 'burlandose',\n",
       " 'ripcurl',\n",
       " 'burlaba',\n",
       " 'tidurlagi',\n",
       " 'gurlfriend',\n",
       " 'yourloss',\n",
       " 'uğurluyor',\n",
       " 'href=\"<url>\"',\n",
       " 'burl',\n",
       " 'aturlah',\n",
       " 'tinyurl',\n",
       " 'tweetyourlockscreen',\n",
       " 'tourlife',\n",
       " 'burleson',\n",
       " 'coeursurlui',\n",
       " 'burló',\n",
       " 'huzurluyum',\n",
       " 'url付き',\n",
       " 'burlaban',\n",
       " 'burlaste',\n",
       " 'thurl',\n",
       " 'gurly',\n",
       " 'burlona',\n",
       " 'nurl',\n",
       " 'furlong',\n",
       " 'describeyourlifeinapicture',\n",
       " 'bbygurl',\n",
       " 'nurlu',\n",
       " 'furlough',\n",
       " 'curlyhairproblems',\n",
       " 'hurlingham',\n",
       " 'wurld',\n",
       " 'furloughs',\n",
       " 'urlano',\n",
       " 'burlamos',\n",
       " 'spurlock',\n",
       " 'turlock',\n",
       " 'purlieu',\n",
       " 'furlan',\n",
       " 'guuuuuurl',\n",
       " 'memurlar',\n",
       " 'gegurl',\n",
       " 'mağdurlarıda',\n",
       " 'gurla',\n",
       " 'getonourlevel',\n",
       " 'liveyourlife',\n",
       " 'inurl',\n",
       " 'urlをチェックしてみます',\n",
       " 'ourlives',\n",
       " 'gurlie',\n",
       " 'hurls',\n",
       " 'kusurlarınızı',\n",
       " 'burlarnos',\n",
       " 'konuşurlar',\n",
       " 'gururluyum',\n",
       " 'gururluyuz',\n",
       " 'susurluk',\n",
       " 'sukurlah',\n",
       " 'lovecurling',\n",
       " 'wurly',\n",
       " 'purley',\n",
       " 'spiceupyourlife',\n",
       " 'onurla',\n",
       " 'natuurlijke',\n",
       " 'gurlies',\n",
       " 'nurlar',\n",
       " 'curlyhairprobs',\n",
       " 'murli',\n",
       " 'skiurlaub',\n",
       " 'burlon',\n",
       " 'urli',\n",
       " 'hurlé',\n",
       " 'kufurler',\n",
       " 'ozgurlugunesahipcik',\n",
       " 'burlingame',\n",
       " 'wurl',\n",
       " 'hancurlah',\n",
       " 'burleigh',\n",
       " 'yağmurları',\n",
       " 'yourlife',\n",
       " 'bersukurlah',\n",
       " 'turley',\n",
       " 'uğurlar',\n",
       " 'minurl',\n",
       " 'sahurlar',\n",
       " 'memurluk',\n",
       " 'naturlig',\n",
       " 'ozurlu',\n",
       " 'burlón',\n",
       " 'そのurlは絶対に開かないでください',\n",
       " 'hurlers',\n",
       " 'tidurla',\n",
       " 'kusurları',\n",
       " 'tuuurlijk',\n",
       " 'gurlfran',\n",
       " 'hurlant',\n",
       " 'ozgurlugu',\n",
       " 'nnurl押すとデータぶっとぶらしいのでn皆様気をつけて下さいnnn大事な事なんで回して下さい',\n",
       " 'vururlar',\n",
       " 'fangurl',\n",
       " 'thurlice',\n",
       " 'curlz',\n",
       " 'herturlu',\n",
       " 'memurları',\n",
       " 'nurla',\n",
       " 'teşekkurler',\n",
       " 'surley',\n",
       " 'nngurl',\n",
       " 'curlyhairprobz',\n",
       " 'guuuuuuurl',\n",
       " 'kusurlu',\n",
       " 'flourless',\n",
       " 'burlada',\n",
       " 'fangurling',\n",
       " 'ghurl',\n",
       " 'yagmurla',\n",
       " 'integurl',\n",
       " 'surluster',\n",
       " 'uğurlandı',\n",
       " 'yağmurlardır',\n",
       " 'curlin',\n",
       " 'gurlss',\n",
       " 'curlier',\n",
       " 'figuurlijk',\n",
       " 'curlys',\n",
       " 'hurlent',\n",
       " 'tinyurl.com',\n",
       " 'tuurlyk',\n",
       " 'naturligtvis',\n",
       " 'gururludur',\n",
       " 'uğurluyoruz',\n",
       " 'tweetyourlifeinapicture',\n",
       " 'mağdurlar',\n",
       " 'tesekurler',\n",
       " 'thurles',\n",
       " 'memurlara',\n",
       " 'olurlarsa',\n",
       " 'unfurl',\n",
       " 'gourlay',\n",
       " 'burlabas',\n",
       " 'murlo',\n",
       " 'urll',\n",
       " 'storyofourlives',\n",
       " 'burlaa',\n",
       " 'burlandome',\n",
       " 'ourlife',\n",
       " 'tesekkurlerr',\n",
       " 'dururlar',\n",
       " 'burlare',\n",
       " 'birturlu',\n",
       " 'sungurlara',\n",
       " 'mudurlugu',\n",
       " 'kusurlarıyla',\n",
       " 'brsyukurlah',\n",
       " 'colourless',\n",
       " 'gurlfrand',\n",
       " 's-curl',\n",
       " 'umurlarında',\n",
       " 'panjurlu',\n",
       " 'ruurlo',\n",
       " 'fourloko',\n",
       " 'hurly',\n",
       " 'getyourlife',\n",
       " 'nnこの通知が来たら即ブロックしてくださいnワンクリ詐欺ですnnurl押すとデータぶっとぶらしいのでn気をつけて下さい',\n",
       " 'onurludur',\n",
       " 'tdurlah',\n",
       " 'urltv',\n",
       " 'uğurladık',\n",
       " 'kufurlu',\n",
       " \"l'urlo\",\n",
       " 'burlandote',\n",
       " 'urlava',\n",
       " 'burlaoo',\n",
       " 'n配信url',\n",
       " 'tesekkurlern',\n",
       " 'kusurlarımla',\n",
       " 'humourless',\n",
       " 'lurling',\n",
       " 'urlは',\n",
       " \"l'url\",\n",
       " 'urlはこちら',\n",
       " 'kufurleri',\n",
       " 'wurlitzer',\n",
       " 'çamurlu',\n",
       " 'turları',\n",
       " 'burlaran',\n",
       " 'burlé',\n",
       " 'uyurlar',\n",
       " 'faurlin',\n",
       " 'gavurlar',\n",
       " 'purl',\n",
       " 'gugurl',\n",
       " 'naturligt',\n",
       " 'urlate',\n",
       " 'hiburlah',\n",
       " 'homegurls',\n",
       " 'unuturlar',\n",
       " 'taburlah',\n",
       " 'ugurlar',\n",
       " 'yağmurluk',\n",
       " 'curlyhairdontcare',\n",
       " 'şuurlu',\n",
       " 'enjoyyourlife',\n",
       " 'uğurlanıyor',\n",
       " 'furloughed',\n",
       " 'huzurlarınızda',\n",
       " 'cesurlar',\n",
       " 'olurlardı',\n",
       " 'tinyurlcom',\n",
       " 'burlones',\n",
       " 'okurlar',\n",
       " 'curlies',\n",
       " 'turlington',\n",
       " 'tidurlahh',\n",
       " 'gurlzz',\n",
       " 'vapurlar',\n",
       " 'nurlela',\n",
       " 'tuuuurlijk',\n",
       " 'omurluk',\n",
       " 'gururlasöylüyoruz',\n",
       " 'kurls',\n",
       " 'changeyourlife',\n",
       " 'uğurlarken',\n",
       " 'yağmurlarında',\n",
       " 'memurların',\n",
       " 'furl',\n",
       " 'purlease',\n",
       " 'yagmurlar',\n",
       " 'getitgurl',\n",
       " 'burlense',\n",
       " 'cubbelihocayaozgurluk',\n",
       " 'timurlaut',\n",
       " '短縮url',\n",
       " 'hourlie',\n",
       " 'tesekkurleer',\n",
       " 'çamurlaşmamak',\n",
       " 'unfurled',\n",
       " 'mağdurların',\n",
       " 'devacurl',\n",
       " 'nnurln',\n",
       " 'uğurlayamadığı',\n",
       " 'bulurlarsa',\n",
       " 'sortyourlifeout',\n",
       " 'thurlow',\n",
       " 'unsurlar',\n",
       " 'syukurlaah',\n",
       " 'yağmurların',\n",
       " 'churlish',\n",
       " 'bbgurl',\n",
       " 'gugurlah',\n",
       " 'magdurlari',\n",
       " 'kusurlar',\n",
       " 'turles',\n",
       " 'gurlitt',\n",
       " 'timurlenk',\n",
       " '番組url',\n",
       " '見れない場合はurlから開きなおして下さい',\n",
       " 'gururlusun',\n",
       " 'syukurla',\n",
       " 'uğurlama',\n",
       " 'liburlah',\n",
       " 'uğurladı',\n",
       " 'eyecurl',\n",
       " 'mahkumdurlar',\n",
       " 'unsurları',\n",
       " 'shorturl',\n",
       " 'burlista',\n",
       " 'fuckourlives',\n",
       " 'guuurls',\n",
       " 'syukurlahh',\n",
       " 'curly-haired',\n",
       " 'guurll',\n",
       " 'teamdafnehurley',\n",
       " 'gururları',\n",
       " '<!--tbegin:<url>',\n",
       " 'coinurl',\n",
       " 'guuuuuuuurl',\n",
       " 'tesekkurler.sizi',\n",
       " 'youtubeで見たい動画のurlの後ろに',\n",
       " 'burlara',\n",
       " 'uğurlamak',\n",
       " 'yourll',\n",
       " 'urlavo',\n",
       " 'ozgurlugune',\n",
       " 'vapurla',\n",
       " 'buluşurlar',\n",
       " 'surları',\n",
       " 'mağdurlarına']"
      ]
     },
     "execution_count": 39,
     "metadata": {},
     "output_type": "execute_result"
    }
   ],
   "source": [
    "list(filter(lambda x:'url' in x.lower(),list(wv.vocab.keys())))"
   ]
  },
  {
   "cell_type": "code",
   "execution_count": 40,
   "metadata": {},
   "outputs": [
    {
     "data": {
      "text/plain": [
       "[('via', 0.732428789138794),\n",
       " ('<hashtag>', 0.7142896056175232),\n",
       " ('<allcaps>', 0.6901519298553467),\n",
       " ('>', 0.6602953672409058),\n",
       " ('http', 0.6453200578689575),\n",
       " ('#', 0.6389607191085815),\n",
       " ('|', 0.6355054378509521),\n",
       " ('ssゲットは先着限定', 0.6353310942649841),\n",
       " ('<', 0.6285114884376526),\n",
       " ('…', 0.6256766319274902)]"
      ]
     },
     "execution_count": 40,
     "metadata": {},
     "output_type": "execute_result"
    }
   ],
   "source": [
    "wv.most_similar(\"<url>\", topn=10)"
   ]
  },
  {
   "cell_type": "code",
   "execution_count": 41,
   "metadata": {},
   "outputs": [
    {
     "data": {
      "text/plain": [
       "[('<neutralface>', 0.8095587491989136),\n",
       " ('<lolface>', 0.7965022325515747),\n",
       " ('<sadface>', 0.7645940780639648),\n",
       " ('<heart>', 0.7528433799743652),\n",
       " ('hehe', 0.748214066028595),\n",
       " ('^_^', 0.7369499206542969),\n",
       " ('xd', 0.7309824228286743),\n",
       " ('hehehe', 0.7304606437683105),\n",
       " ('ahaha', 0.7019861936569214),\n",
       " ('hihi', 0.6997008323669434)]"
      ]
     },
     "execution_count": 41,
     "metadata": {},
     "output_type": "execute_result"
    }
   ],
   "source": [
    "wv.most_similar(\"<smile>\", topn=10)"
   ]
  },
  {
   "cell_type": "code",
   "execution_count": 42,
   "metadata": {},
   "outputs": [
    {
     "data": {
      "text/plain": [
       "[('\\\\', 0.7386871576309204),\n",
       " ('<repeat>', 0.7294382452964783),\n",
       " ('__', 0.7184574007987976),\n",
       " (':o', 0.7067031860351562),\n",
       " ('!', 0.7035314440727234),\n",
       " ('<sadface>', 0.6861765384674072),\n",
       " ('_', 0.6856454610824585),\n",
       " ('<user>', 0.680150032043457),\n",
       " ('<neutralface>', 0.6764784455299377),\n",
       " ('ahh', 0.6723438501358032)]"
      ]
     },
     "execution_count": 42,
     "metadata": {},
     "output_type": "execute_result"
    }
   ],
   "source": [
    "wv.most_similar('<elong>')"
   ]
  },
  {
   "cell_type": "code",
   "execution_count": 43,
   "metadata": {},
   "outputs": [
    {
     "data": {
      "text/plain": [
       "True"
      ]
     },
     "execution_count": 43,
     "metadata": {},
     "output_type": "execute_result"
    }
   ],
   "source": [
    "'.' in wv"
   ]
  },
  {
   "cell_type": "code",
   "execution_count": 44,
   "metadata": {},
   "outputs": [
    {
     "data": {
      "text/plain": [
       "True"
      ]
     },
     "execution_count": 44,
     "metadata": {},
     "output_type": "execute_result"
    }
   ],
   "source": [
    "'!' in wv"
   ]
  },
  {
   "cell_type": "code",
   "execution_count": 45,
   "metadata": {},
   "outputs": [
    {
     "data": {
      "text/plain": [
       "True"
      ]
     },
     "execution_count": 45,
     "metadata": {},
     "output_type": "execute_result"
    }
   ],
   "source": [
    "';' in wv"
   ]
  }
 ],
 "metadata": {
  "kernelspec": {
   "display_name": "Python 3",
   "language": "python",
   "name": "python3"
  },
  "language_info": {
   "codemirror_mode": {
    "name": "ipython",
    "version": 3
   },
   "file_extension": ".py",
   "mimetype": "text/x-python",
   "name": "python",
   "nbconvert_exporter": "python",
   "pygments_lexer": "ipython3",
   "version": "3.8.5"
  }
 },
 "nbformat": 4,
 "nbformat_minor": 4
}
