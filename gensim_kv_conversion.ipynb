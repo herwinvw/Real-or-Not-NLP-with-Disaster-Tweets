{
 "cells": [
  {
   "cell_type": "markdown",
   "metadata": {},
   "source": [
    "# Converting Twitter wordvecs to gensim format"
   ]
  },
  {
   "cell_type": "markdown",
   "metadata": {},
   "source": [
    "## Glove Twitter wordvecs\n",
    "From https://nlp.stanford.edu/projects/glove/"
   ]
  },
  {
   "cell_type": "code",
   "execution_count": 4,
   "metadata": {},
   "outputs": [
    {
     "name": "stdout",
     "output_type": "stream",
     "text": [
      "Loading size 25\n",
      "Storing size 25\n",
      "Loading size 50\n",
      "Storing size 50\n",
      "Loading size 100\n",
      "Storing size 100\n",
      "Loading size 200\n",
      "Storing size 200\n"
     ]
    }
   ],
   "source": [
    "from gensim.models import KeyedVectors\n",
    "for size in [25,50,100,200]:\n",
    "    print(f'Loading size {size}')\n",
    "    wv = KeyedVectors.load_word2vec_format(f'wordvecs/glove.twitter.27B.{size}d_wv.txt', binary=False)\n",
    "    print(f'Storing size {size}')\n",
    "    wv.save(f'wordvecs/glove.twitter.27B.{size}d.kv')"
   ]
  },
  {
   "cell_type": "markdown",
   "metadata": {},
   "source": [
    "## Godin's Twitter wordvecs\n",
    "From https://github.com/FredericGodin/TwitterEmbeddings"
   ]
  },
  {
   "cell_type": "code",
   "execution_count": 6,
   "metadata": {},
   "outputs": [],
   "source": [
    "wv = KeyedVectors.load_word2vec_format('wordvecs/word2vec_twitter_tokens.bin', \n",
    "                                       unicode_errors='ignore',\n",
    "                                       binary=True)"
   ]
  },
  {
   "cell_type": "code",
   "execution_count": 8,
   "metadata": {},
   "outputs": [],
   "source": [
    "wv.save('wordvecs/word2vec_twitter_tokens.kv')"
   ]
  }
 ],
 "metadata": {
  "kernelspec": {
   "display_name": "Python 3",
   "language": "python",
   "name": "python3"
  },
  "language_info": {
   "codemirror_mode": {
    "name": "ipython",
    "version": 3
   },
   "file_extension": ".py",
   "mimetype": "text/x-python",
   "name": "python",
   "nbconvert_exporter": "python",
   "pygments_lexer": "ipython3",
   "version": "3.8.5"
  }
 },
 "nbformat": 4,
 "nbformat_minor": 4
}
